{
 "metadata": {
  "language_info": {
   "codemirror_mode": {
    "name": "ipython",
    "version": 3
   },
   "file_extension": ".py",
   "mimetype": "text/x-python",
   "name": "python",
   "nbconvert_exporter": "python",
   "pygments_lexer": "ipython3",
   "version": "3.6.5-final"
  },
  "orig_nbformat": 2,
  "kernelspec": {
   "name": "python3",
   "display_name": "Python 3"
  }
 },
 "nbformat": 4,
 "nbformat_minor": 2,
 "cells": [
  {
   "cell_type": "code",
   "execution_count": 80,
   "metadata": {
    "tags": []
   },
   "outputs": [
    {
     "output_type": "execute_result",
     "data": {
      "text/plain": [
       "       id_  helpful  funny           username  owned  numrev  recommended  \\\n",
       "0  1057540        0      0  76561199010786998      8       3            1   \n",
       "1  1057540        0      0            yodeitz    757      26            1   \n",
       "2  1057540        0      0  76561197965250496     12       6            1   \n",
       "3  1057540        0      0          SkyIineTo    100      15            1   \n",
       "4  1057540        0      0         iamalphena    146       2            1   \n",
       "\n",
       "   time             posted                                            content  \n",
       "0   9.2  30 November, 2020                  Short and sweet, worth the price.  \n",
       "1   6.2  29 November, 2020  Short but fun RPG.  Lighthearted story telling...  \n",
       "2   6.6  29 November, 2020  This game is just as fun as the first one in t...  \n",
       "3   2.9  27 November, 2020                  REALLY CUTE WORTH THE SUNDAY PLAY  \n",
       "4  20.0  26 November, 2020  This is a fantastic holiday turn based RPG tha...  "
      ],
      "text/html": "<div>\n<style scoped>\n    .dataframe tbody tr th:only-of-type {\n        vertical-align: middle;\n    }\n\n    .dataframe tbody tr th {\n        vertical-align: top;\n    }\n\n    .dataframe thead th {\n        text-align: right;\n    }\n</style>\n<table border=\"1\" class=\"dataframe\">\n  <thead>\n    <tr style=\"text-align: right;\">\n      <th></th>\n      <th>id_</th>\n      <th>helpful</th>\n      <th>funny</th>\n      <th>username</th>\n      <th>owned</th>\n      <th>numrev</th>\n      <th>recommended</th>\n      <th>time</th>\n      <th>posted</th>\n      <th>content</th>\n    </tr>\n  </thead>\n  <tbody>\n    <tr>\n      <th>0</th>\n      <td>1057540</td>\n      <td>0</td>\n      <td>0</td>\n      <td>76561199010786998</td>\n      <td>8</td>\n      <td>3</td>\n      <td>1</td>\n      <td>9.2</td>\n      <td>30 November, 2020</td>\n      <td>Short and sweet, worth the price.</td>\n    </tr>\n    <tr>\n      <th>1</th>\n      <td>1057540</td>\n      <td>0</td>\n      <td>0</td>\n      <td>yodeitz</td>\n      <td>757</td>\n      <td>26</td>\n      <td>1</td>\n      <td>6.2</td>\n      <td>29 November, 2020</td>\n      <td>Short but fun RPG.  Lighthearted story telling...</td>\n    </tr>\n    <tr>\n      <th>2</th>\n      <td>1057540</td>\n      <td>0</td>\n      <td>0</td>\n      <td>76561197965250496</td>\n      <td>12</td>\n      <td>6</td>\n      <td>1</td>\n      <td>6.6</td>\n      <td>29 November, 2020</td>\n      <td>This game is just as fun as the first one in t...</td>\n    </tr>\n    <tr>\n      <th>3</th>\n      <td>1057540</td>\n      <td>0</td>\n      <td>0</td>\n      <td>SkyIineTo</td>\n      <td>100</td>\n      <td>15</td>\n      <td>1</td>\n      <td>2.9</td>\n      <td>27 November, 2020</td>\n      <td>REALLY CUTE WORTH THE SUNDAY PLAY</td>\n    </tr>\n    <tr>\n      <th>4</th>\n      <td>1057540</td>\n      <td>0</td>\n      <td>0</td>\n      <td>iamalphena</td>\n      <td>146</td>\n      <td>2</td>\n      <td>1</td>\n      <td>20.0</td>\n      <td>26 November, 2020</td>\n      <td>This is a fantastic holiday turn based RPG tha...</td>\n    </tr>\n  </tbody>\n</table>\n</div>"
     },
     "metadata": {},
     "execution_count": 80
    }
   ],
   "source": [
    "import pandas as pd\n",
    "\n",
    "reviews_df=pd.read_csv('data/reviews.csv')\n",
    "reviews_df.head()"
   ]
  },
  {
   "cell_type": "code",
   "execution_count": 81,
   "metadata": {
    "tags": []
   },
   "outputs": [
    {
     "output_type": "stream",
     "name": "stdout",
     "text": [
      "<class 'pandas.core.frame.DataFrame'>\nRangeIndex: 142111 entries, 0 to 142110\nData columns (total 10 columns):\nid_            142111 non-null int64\nhelpful        142111 non-null int64\nfunny          142111 non-null int64\nusername       142111 non-null object\nowned          142111 non-null int64\nnumrev         142111 non-null int64\nrecommended    142111 non-null int64\ntime           142111 non-null float64\nposted         142111 non-null object\ncontent        141851 non-null object\ndtypes: float64(1), int64(6), object(3)\nmemory usage: 10.8+ MB\n"
     ]
    }
   ],
   "source": [
    "reviews_df.info()"
   ]
  },
  {
   "cell_type": "code",
   "execution_count": 82,
   "metadata": {},
   "outputs": [
    {
     "output_type": "execute_result",
     "data": {
      "text/plain": [
       "377160     53757\n",
       "268500     23648\n",
       "1237970    17968\n",
       "247080      8833\n",
       "310950      7112\n",
       "584400      7015\n",
       "373420      6346\n",
       "224760      4695\n",
       "560130      4070\n",
       "589360      2564\n",
       "412830      1997\n",
       "385760      1649\n",
       "1238840     1457\n",
       "809230       512\n",
       "402430       388\n",
       "1057540      100\n",
       "Name: id_, dtype: int64"
      ]
     },
     "metadata": {},
     "execution_count": 82
    }
   ],
   "source": [
    "reviews_df['id_'].value_counts()"
   ]
  },
  {
   "cell_type": "code",
   "execution_count": 93,
   "metadata": {},
   "outputs": [
    {
     "output_type": "execute_result",
     "data": {
      "text/plain": [
       "            id_                  username  counts\n",
       "5438     247080         76561198017829127       2\n",
       "5461     247080         76561198019650922       2\n",
       "5887     247080         76561198042695309       2\n",
       "6648     247080         76561198085576894       2\n",
       "7750     247080         76561198332923409       2\n",
       "8010     247080         76561198969857199       2\n",
       "10030    247080                ZephyrWish       2\n",
       "10332    247080                    bliemm       2\n",
       "10924    247080               emanasaurus       2\n",
       "10958    247080  eviloverlordofprovidence       2\n",
       "11188    247080                 greg20man       2\n",
       "11195    247080                grimpickle       2\n",
       "11418    247080                jadedspark       2\n",
       "11737    247080               lordseancap       2\n",
       "11776    247080               lyricalpaws       2\n",
       "11800    247080               magpieparty       2\n",
       "12201    247080                omnomasaur       2\n",
       "12989    247080                 technikky       2\n",
       "13012    247080                 tfwnolief       2\n",
       "13274    247080               vergilius35       2\n",
       "14491    268500         76561197972027080       2\n",
       "16163    268500         76561198000278391       2\n",
       "17124    268500         76561198008289970       2\n",
       "17423    268500         76561198010709149       2\n",
       "18905    268500         76561198029043078       2\n",
       "20703    268500         76561198046961562       2\n",
       "22428    268500         76561198069839182       2\n",
       "22820    268500         76561198075046085       2\n",
       "23819    268500         76561198095260633       2\n",
       "23831    268500         76561198095552596       2\n",
       "...         ...                       ...     ...\n",
       "132009  1237970                  CladHail       2\n",
       "132248  1237970           DetectiveWombat       2\n",
       "132332  1237970                 Dubitybub       2\n",
       "132593  1237970             FuzzySnowyBoi       2\n",
       "132791  1237970             HikoTheWizard       2\n",
       "133021  1237970                     Jb0n3       2\n",
       "133483  1237970                MaunkeyMan       2\n",
       "137835  1237970         letters-n-numbers       2\n",
       "138381  1237970                nibbagames       2\n",
       "138853  1237970           qwertyqwerispro       2\n",
       "140450  1238840         76561197969962618       2\n",
       "140463  1238840         76561197989201493       2\n",
       "140569  1238840         76561198072064257       2\n",
       "140663  1238840         76561198158894499       2\n",
       "140680  1238840         76561198175676443       2\n",
       "140689  1238840         76561198186261565       2\n",
       "140742  1238840         76561198253421621       2\n",
       "140761  1238840         76561198273948126       2\n",
       "140966  1238840         76561198814265927       2\n",
       "141051  1238840         76561198923250706       2\n",
       "141166  1238840         76561199041840925       2\n",
       "141250  1238840                  Andrits2       2\n",
       "141343  1238840                  HotC0coa       2\n",
       "141404  1238840                  Nokexddx       2\n",
       "141565  1238840                 davidjnog       2\n",
       "141649  1238840              kajmakdelija       2\n",
       "141675  1238840               mariusica2k       2\n",
       "141690  1238840                    mvd289       2\n",
       "141722  1238840           pythonblackbelt       2\n",
       "141748  1238840                  scsa3166       2\n",
       "\n",
       "[260 rows x 3 columns]"
      ],
      "text/html": "<div>\n<style scoped>\n    .dataframe tbody tr th:only-of-type {\n        vertical-align: middle;\n    }\n\n    .dataframe tbody tr th {\n        vertical-align: top;\n    }\n\n    .dataframe thead th {\n        text-align: right;\n    }\n</style>\n<table border=\"1\" class=\"dataframe\">\n  <thead>\n    <tr style=\"text-align: right;\">\n      <th></th>\n      <th>id_</th>\n      <th>username</th>\n      <th>counts</th>\n    </tr>\n  </thead>\n  <tbody>\n    <tr>\n      <th>5438</th>\n      <td>247080</td>\n      <td>76561198017829127</td>\n      <td>2</td>\n    </tr>\n    <tr>\n      <th>5461</th>\n      <td>247080</td>\n      <td>76561198019650922</td>\n      <td>2</td>\n    </tr>\n    <tr>\n      <th>5887</th>\n      <td>247080</td>\n      <td>76561198042695309</td>\n      <td>2</td>\n    </tr>\n    <tr>\n      <th>6648</th>\n      <td>247080</td>\n      <td>76561198085576894</td>\n      <td>2</td>\n    </tr>\n    <tr>\n      <th>7750</th>\n      <td>247080</td>\n      <td>76561198332923409</td>\n      <td>2</td>\n    </tr>\n    <tr>\n      <th>8010</th>\n      <td>247080</td>\n      <td>76561198969857199</td>\n      <td>2</td>\n    </tr>\n    <tr>\n      <th>10030</th>\n      <td>247080</td>\n      <td>ZephyrWish</td>\n      <td>2</td>\n    </tr>\n    <tr>\n      <th>10332</th>\n      <td>247080</td>\n      <td>bliemm</td>\n      <td>2</td>\n    </tr>\n    <tr>\n      <th>10924</th>\n      <td>247080</td>\n      <td>emanasaurus</td>\n      <td>2</td>\n    </tr>\n    <tr>\n      <th>10958</th>\n      <td>247080</td>\n      <td>eviloverlordofprovidence</td>\n      <td>2</td>\n    </tr>\n    <tr>\n      <th>11188</th>\n      <td>247080</td>\n      <td>greg20man</td>\n      <td>2</td>\n    </tr>\n    <tr>\n      <th>11195</th>\n      <td>247080</td>\n      <td>grimpickle</td>\n      <td>2</td>\n    </tr>\n    <tr>\n      <th>11418</th>\n      <td>247080</td>\n      <td>jadedspark</td>\n      <td>2</td>\n    </tr>\n    <tr>\n      <th>11737</th>\n      <td>247080</td>\n      <td>lordseancap</td>\n      <td>2</td>\n    </tr>\n    <tr>\n      <th>11776</th>\n      <td>247080</td>\n      <td>lyricalpaws</td>\n      <td>2</td>\n    </tr>\n    <tr>\n      <th>11800</th>\n      <td>247080</td>\n      <td>magpieparty</td>\n      <td>2</td>\n    </tr>\n    <tr>\n      <th>12201</th>\n      <td>247080</td>\n      <td>omnomasaur</td>\n      <td>2</td>\n    </tr>\n    <tr>\n      <th>12989</th>\n      <td>247080</td>\n      <td>technikky</td>\n      <td>2</td>\n    </tr>\n    <tr>\n      <th>13012</th>\n      <td>247080</td>\n      <td>tfwnolief</td>\n      <td>2</td>\n    </tr>\n    <tr>\n      <th>13274</th>\n      <td>247080</td>\n      <td>vergilius35</td>\n      <td>2</td>\n    </tr>\n    <tr>\n      <th>14491</th>\n      <td>268500</td>\n      <td>76561197972027080</td>\n      <td>2</td>\n    </tr>\n    <tr>\n      <th>16163</th>\n      <td>268500</td>\n      <td>76561198000278391</td>\n      <td>2</td>\n    </tr>\n    <tr>\n      <th>17124</th>\n      <td>268500</td>\n      <td>76561198008289970</td>\n      <td>2</td>\n    </tr>\n    <tr>\n      <th>17423</th>\n      <td>268500</td>\n      <td>76561198010709149</td>\n      <td>2</td>\n    </tr>\n    <tr>\n      <th>18905</th>\n      <td>268500</td>\n      <td>76561198029043078</td>\n      <td>2</td>\n    </tr>\n    <tr>\n      <th>20703</th>\n      <td>268500</td>\n      <td>76561198046961562</td>\n      <td>2</td>\n    </tr>\n    <tr>\n      <th>22428</th>\n      <td>268500</td>\n      <td>76561198069839182</td>\n      <td>2</td>\n    </tr>\n    <tr>\n      <th>22820</th>\n      <td>268500</td>\n      <td>76561198075046085</td>\n      <td>2</td>\n    </tr>\n    <tr>\n      <th>23819</th>\n      <td>268500</td>\n      <td>76561198095260633</td>\n      <td>2</td>\n    </tr>\n    <tr>\n      <th>23831</th>\n      <td>268500</td>\n      <td>76561198095552596</td>\n      <td>2</td>\n    </tr>\n    <tr>\n      <th>...</th>\n      <td>...</td>\n      <td>...</td>\n      <td>...</td>\n    </tr>\n    <tr>\n      <th>132009</th>\n      <td>1237970</td>\n      <td>CladHail</td>\n      <td>2</td>\n    </tr>\n    <tr>\n      <th>132248</th>\n      <td>1237970</td>\n      <td>DetectiveWombat</td>\n      <td>2</td>\n    </tr>\n    <tr>\n      <th>132332</th>\n      <td>1237970</td>\n      <td>Dubitybub</td>\n      <td>2</td>\n    </tr>\n    <tr>\n      <th>132593</th>\n      <td>1237970</td>\n      <td>FuzzySnowyBoi</td>\n      <td>2</td>\n    </tr>\n    <tr>\n      <th>132791</th>\n      <td>1237970</td>\n      <td>HikoTheWizard</td>\n      <td>2</td>\n    </tr>\n    <tr>\n      <th>133021</th>\n      <td>1237970</td>\n      <td>Jb0n3</td>\n      <td>2</td>\n    </tr>\n    <tr>\n      <th>133483</th>\n      <td>1237970</td>\n      <td>MaunkeyMan</td>\n      <td>2</td>\n    </tr>\n    <tr>\n      <th>137835</th>\n      <td>1237970</td>\n      <td>letters-n-numbers</td>\n      <td>2</td>\n    </tr>\n    <tr>\n      <th>138381</th>\n      <td>1237970</td>\n      <td>nibbagames</td>\n      <td>2</td>\n    </tr>\n    <tr>\n      <th>138853</th>\n      <td>1237970</td>\n      <td>qwertyqwerispro</td>\n      <td>2</td>\n    </tr>\n    <tr>\n      <th>140450</th>\n      <td>1238840</td>\n      <td>76561197969962618</td>\n      <td>2</td>\n    </tr>\n    <tr>\n      <th>140463</th>\n      <td>1238840</td>\n      <td>76561197989201493</td>\n      <td>2</td>\n    </tr>\n    <tr>\n      <th>140569</th>\n      <td>1238840</td>\n      <td>76561198072064257</td>\n      <td>2</td>\n    </tr>\n    <tr>\n      <th>140663</th>\n      <td>1238840</td>\n      <td>76561198158894499</td>\n      <td>2</td>\n    </tr>\n    <tr>\n      <th>140680</th>\n      <td>1238840</td>\n      <td>76561198175676443</td>\n      <td>2</td>\n    </tr>\n    <tr>\n      <th>140689</th>\n      <td>1238840</td>\n      <td>76561198186261565</td>\n      <td>2</td>\n    </tr>\n    <tr>\n      <th>140742</th>\n      <td>1238840</td>\n      <td>76561198253421621</td>\n      <td>2</td>\n    </tr>\n    <tr>\n      <th>140761</th>\n      <td>1238840</td>\n      <td>76561198273948126</td>\n      <td>2</td>\n    </tr>\n    <tr>\n      <th>140966</th>\n      <td>1238840</td>\n      <td>76561198814265927</td>\n      <td>2</td>\n    </tr>\n    <tr>\n      <th>141051</th>\n      <td>1238840</td>\n      <td>76561198923250706</td>\n      <td>2</td>\n    </tr>\n    <tr>\n      <th>141166</th>\n      <td>1238840</td>\n      <td>76561199041840925</td>\n      <td>2</td>\n    </tr>\n    <tr>\n      <th>141250</th>\n      <td>1238840</td>\n      <td>Andrits2</td>\n      <td>2</td>\n    </tr>\n    <tr>\n      <th>141343</th>\n      <td>1238840</td>\n      <td>HotC0coa</td>\n      <td>2</td>\n    </tr>\n    <tr>\n      <th>141404</th>\n      <td>1238840</td>\n      <td>Nokexddx</td>\n      <td>2</td>\n    </tr>\n    <tr>\n      <th>141565</th>\n      <td>1238840</td>\n      <td>davidjnog</td>\n      <td>2</td>\n    </tr>\n    <tr>\n      <th>141649</th>\n      <td>1238840</td>\n      <td>kajmakdelija</td>\n      <td>2</td>\n    </tr>\n    <tr>\n      <th>141675</th>\n      <td>1238840</td>\n      <td>mariusica2k</td>\n      <td>2</td>\n    </tr>\n    <tr>\n      <th>141690</th>\n      <td>1238840</td>\n      <td>mvd289</td>\n      <td>2</td>\n    </tr>\n    <tr>\n      <th>141722</th>\n      <td>1238840</td>\n      <td>pythonblackbelt</td>\n      <td>2</td>\n    </tr>\n    <tr>\n      <th>141748</th>\n      <td>1238840</td>\n      <td>scsa3166</td>\n      <td>2</td>\n    </tr>\n  </tbody>\n</table>\n<p>260 rows × 3 columns</p>\n</div>"
     },
     "metadata": {},
     "execution_count": 93
    }
   ],
   "source": [
    "## 리뷰를 여러개 등록한 유저 확인\n",
    "\n",
    "# 게임id로 groupby한 뒤 username으로 groupby\n",
    "grouped=reviews_df.groupby(['id_', 'username'])\n",
    "# 한 게임에 2개 이상의 리뷰를 남긴 유저들 조회\n",
    "gr_cnt=grouped.size().reset_index(name='counts')\n",
    "gr_cnt[gr_cnt['counts']>1]"
   ]
  },
  {
   "cell_type": "code",
   "execution_count": 85,
   "metadata": {},
   "outputs": [],
   "source": [
    "# 불필요한 속성 제거: id_, username, recommended 제외한 속성들 모두 제거\n",
    "reviews_df.drop([\"helpful\", \"funny\", \"owned\", \"numrev\", \"time\", \"posted\", \"content\"], axis=1, inplace=True)\n",
    "    "
   ]
  },
  {
   "cell_type": "code",
   "execution_count": 86,
   "metadata": {},
   "outputs": [
    {
     "output_type": "execute_result",
     "data": {
      "text/plain": [
       " 1    118437\n",
       "-1     23674\n",
       "Name: recommended, dtype: int64"
      ]
     },
     "metadata": {},
     "execution_count": 86
    }
   ],
   "source": [
    "reviews_df['recommended'].value_counts()"
   ]
  },
  {
   "cell_type": "code",
   "execution_count": 87,
   "metadata": {},
   "outputs": [],
   "source": [
    "# @@ recommended 속성의 not recommended 값을 -1에서 0으로 교체? : --> 미정 @@\n",
    "reviews_df.replace({'recommended':-1}, {'recommended':0}, inplace=True)"
   ]
  },
  {
   "cell_type": "code",
   "execution_count": 88,
   "metadata": {},
   "outputs": [
    {
     "output_type": "execute_result",
     "data": {
      "text/plain": [
       "1    118437\n",
       "0     23674\n",
       "Name: recommended, dtype: int64"
      ]
     },
     "metadata": {},
     "execution_count": 88
    }
   ],
   "source": [
    "# 교체결과 확인\n",
    "reviews_df['recommended'].value_counts()"
   ]
  }
 ]
}