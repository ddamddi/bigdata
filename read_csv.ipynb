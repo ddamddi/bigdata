{
 "metadata": {
  "language_info": {
   "codemirror_mode": {
    "name": "ipython",
    "version": 3
   },
   "file_extension": ".py",
   "mimetype": "text/x-python",
   "name": "python",
   "nbconvert_exporter": "python",
   "pygments_lexer": "ipython3",
   "version": "3.6.5-final"
  },
  "orig_nbformat": 2,
  "kernelspec": {
   "name": "python3",
   "display_name": "Python 3"
  }
 },
 "nbformat": 4,
 "nbformat_minor": 2,
 "cells": [
  {
   "cell_type": "code",
   "execution_count": 6,
   "metadata": {
    "tags": []
   },
   "outputs": [
    {
     "output_type": "execute_result",
     "data": {
      "text/plain": [
       "       id_  helpful  funny           username  owned  numrev  recco  time  \\\n",
       "0  1057540        0      0  76561199010786998      8       3      1   9.2   \n",
       "1  1057540        0      0            yodeitz    757      26      1   6.2   \n",
       "2  1057540        0      0  76561197965250496     12       6      1   6.6   \n",
       "3  1057540        0      0          SkyIineTo    100      15      1   2.9   \n",
       "4  1057540        0      0         iamalphena    146       2      1  20.0   \n",
       "\n",
       "              posted                                            content  \n",
       "0  30 November, 2020                  Short and sweet, worth the price.  \n",
       "1  29 November, 2020  Short but fun RPG.  Lighthearted story telling...  \n",
       "2  29 November, 2020  This game is just as fun as the first one in t...  \n",
       "3  27 November, 2020                  REALLY CUTE WORTH THE SUNDAY PLAY  \n",
       "4  26 November, 2020  This is a fantastic holiday turn based RPG tha...  "
      ],
      "text/html": "<div>\n<style scoped>\n    .dataframe tbody tr th:only-of-type {\n        vertical-align: middle;\n    }\n\n    .dataframe tbody tr th {\n        vertical-align: top;\n    }\n\n    .dataframe thead th {\n        text-align: right;\n    }\n</style>\n<table border=\"1\" class=\"dataframe\">\n  <thead>\n    <tr style=\"text-align: right;\">\n      <th></th>\n      <th>id_</th>\n      <th>helpful</th>\n      <th>funny</th>\n      <th>username</th>\n      <th>owned</th>\n      <th>numrev</th>\n      <th>recco</th>\n      <th>time</th>\n      <th>posted</th>\n      <th>content</th>\n    </tr>\n  </thead>\n  <tbody>\n    <tr>\n      <th>0</th>\n      <td>1057540</td>\n      <td>0</td>\n      <td>0</td>\n      <td>76561199010786998</td>\n      <td>8</td>\n      <td>3</td>\n      <td>1</td>\n      <td>9.2</td>\n      <td>30 November, 2020</td>\n      <td>Short and sweet, worth the price.</td>\n    </tr>\n    <tr>\n      <th>1</th>\n      <td>1057540</td>\n      <td>0</td>\n      <td>0</td>\n      <td>yodeitz</td>\n      <td>757</td>\n      <td>26</td>\n      <td>1</td>\n      <td>6.2</td>\n      <td>29 November, 2020</td>\n      <td>Short but fun RPG.  Lighthearted story telling...</td>\n    </tr>\n    <tr>\n      <th>2</th>\n      <td>1057540</td>\n      <td>0</td>\n      <td>0</td>\n      <td>76561197965250496</td>\n      <td>12</td>\n      <td>6</td>\n      <td>1</td>\n      <td>6.6</td>\n      <td>29 November, 2020</td>\n      <td>This game is just as fun as the first one in t...</td>\n    </tr>\n    <tr>\n      <th>3</th>\n      <td>1057540</td>\n      <td>0</td>\n      <td>0</td>\n      <td>SkyIineTo</td>\n      <td>100</td>\n      <td>15</td>\n      <td>1</td>\n      <td>2.9</td>\n      <td>27 November, 2020</td>\n      <td>REALLY CUTE WORTH THE SUNDAY PLAY</td>\n    </tr>\n    <tr>\n      <th>4</th>\n      <td>1057540</td>\n      <td>0</td>\n      <td>0</td>\n      <td>iamalphena</td>\n      <td>146</td>\n      <td>2</td>\n      <td>1</td>\n      <td>20.0</td>\n      <td>26 November, 2020</td>\n      <td>This is a fantastic holiday turn based RPG tha...</td>\n    </tr>\n  </tbody>\n</table>\n</div>"
     },
     "metadata": {},
     "execution_count": 6
    }
   ],
   "source": [
    "import pandas as pd\n",
    "\n",
    "reviews_df=pd.read_csv('data/reviews.csv')\n",
    "reviews_df.head()"
   ]
  },
  {
   "cell_type": "code",
   "execution_count": 7,
   "metadata": {
    "tags": []
   },
   "outputs": [
    {
     "output_type": "stream",
     "name": "stdout",
     "text": [
      "<class 'pandas.core.frame.DataFrame'>\nRangeIndex: 142111 entries, 0 to 142110\nData columns (total 10 columns):\nid_         142111 non-null int64\nhelpful     142111 non-null int64\nfunny       142111 non-null int64\nusername    142111 non-null object\nowned       142111 non-null int64\nnumrev      142111 non-null int64\nrecco       142111 non-null int64\ntime        142111 non-null float64\nposted      142111 non-null object\ncontent     141851 non-null object\ndtypes: float64(1), int64(6), object(3)\nmemory usage: 10.8+ MB\n"
     ]
    }
   ],
   "source": [
    "reviews_df.info()"
   ]
  },
  {
   "cell_type": "code",
   "execution_count": 8,
   "metadata": {},
   "outputs": [
    {
     "output_type": "execute_result",
     "data": {
      "text/plain": [
       "377160     53757\n",
       "268500     23648\n",
       "1237970    17968\n",
       "247080      8833\n",
       "310950      7112\n",
       "584400      7015\n",
       "373420      6346\n",
       "224760      4695\n",
       "560130      4070\n",
       "589360      2564\n",
       "412830      1997\n",
       "385760      1649\n",
       "1238840     1457\n",
       "809230       512\n",
       "402430       388\n",
       "1057540      100\n",
       "Name: id_, dtype: int64"
      ]
     },
     "metadata": {},
     "execution_count": 8
    }
   ],
   "source": [
    "reviews_df['id_'].value_counts()"
   ]
  },
  {
   "cell_type": "code",
   "execution_count": null,
   "metadata": {},
   "outputs": [],
   "source": []
  }
 ]
}